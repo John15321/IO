{
 "metadata": {
  "language_info": {
   "codemirror_mode": {
    "name": "ipython",
    "version": 3
   },
   "file_extension": ".py",
   "mimetype": "text/x-python",
   "name": "python",
   "nbconvert_exporter": "python",
   "pygments_lexer": "ipython3",
   "version": "3.7.4-final"
  },
  "orig_nbformat": 2,
  "kernelspec": {
   "name": "python37464bitbaseconda329b25ce2e68402abefcc2fc1b0eaddf",
   "display_name": "Python 3.7.4 64-bit ('base': conda)"
  }
 },
 "nbformat": 4,
 "nbformat_minor": 2,
 "cells": [
  {
   "cell_type": "code",
   "execution_count": 2,
   "metadata": {},
   "outputs": [],
   "source": [
    "import numpy as np"
   ]
  },
  {
   "cell_type": "code",
   "execution_count": 3,
   "metadata": {},
   "outputs": [],
   "source": [
    "def R_max(R_pom, I_max):\n",
    "    return ((24-0.1-R_pom*I_max*(10**(-3)))/(I_max*(10**(-3))))"
   ]
  },
  {
   "cell_type": "code",
   "execution_count": 5,
   "metadata": {},
   "outputs": [
    {
     "output_type": "execute_result",
     "data": {
      "text/plain": [
       "1981.6666666666665"
      ]
     },
     "metadata": {},
     "execution_count": 5
    }
   ],
   "source": [
    "R_pom = 10 #Ohm\n",
    "I_max = 12 #mA\n",
    "\n",
    "R_max(R_pom, I_max)\n",
    "# Rpom 10 omh"
   ]
  },
  {
   "cell_type": "code",
   "execution_count": 6,
   "metadata": {},
   "outputs": [
    {
     "output_type": "execute_result",
     "data": {
      "text/plain": [
       "1891.6666666666665"
      ]
     },
     "metadata": {},
     "execution_count": 6
    }
   ],
   "source": [
    "R_pom = 100 #Ohm\n",
    "I_max = 12 #mA\n",
    "\n",
    "R_max(R_pom, I_max)\n",
    "# Rpom 100 omh"
   ]
  },
  {
   "cell_type": "code",
   "execution_count": 7,
   "metadata": {},
   "outputs": [
    {
     "output_type": "execute_result",
     "data": {
      "text/plain": [
       "1791.6666666666667"
      ]
     },
     "metadata": {},
     "execution_count": 7
    }
   ],
   "source": [
    "R_pom = 200 #Ohm\n",
    "I_max = 12 #mA\n",
    "\n",
    "R_max(R_pom, I_max)\n",
    "# Rpom 200 omh"
   ]
  },
  {
   "cell_type": "code",
   "execution_count": null,
   "metadata": {},
   "outputs": [],
   "source": []
  }
 ]
}